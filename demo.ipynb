{
 "cells": [
  {
   "cell_type": "markdown",
   "metadata": {},
   "source": [
    "Generate the matrix data for data collection:\n",
    "- Define matrix types (dense, sparse, etc.).\n",
    "- Collect performance metrics like execution time and memory usage."
   ]
  },
  {
   "cell_type": "code",
   "execution_count": 4,
   "metadata": {},
   "outputs": [
    {
     "name": "stdout",
     "output_type": "stream",
     "text": [
      "Execution Time: 0.0002 seconds\n"
     ]
    }
   ],
   "source": [
    "import numpy as np\n",
    "import pandas as pd\n",
    "import time\n",
    "\n",
    "# Generate dense matrix\n",
    "dense_matrix_100x100 = np.random.rand(100, 100)\n",
    "\n",
    "# Generate sparse matrix (10% non-zero elements)\n",
    "sparse_matrix_100x100 = np.random.rand(100, 100)\n",
    "sparse_matrix_100x100[sparse_matrix_100x100 < 0.9] = 0  # Setting 90% to zero\n",
    "\n",
    "# Function to measure time taken for multiplication\n",
    "def measure_time(matrix1, matrix2):\n",
    "    start_time = time.time()\n",
    "    np.matmul(matrix1, matrix2)\n",
    "    end_time = time.time()\n",
    "    return end_time - start_time\n",
    "\n",
    "def main():\n",
    "    # df = pd.DataFrame(dense_matrix_100x100)\n",
    "    # print(df)\n",
    "    execution_time = measure_time(dense_matrix_100x100, dense_matrix_100x100)\n",
    "    print(f\"Execution Time: {execution_time:.4f} seconds\")\n",
    "\n",
    "if __name__ == \"__main__\":\n",
    "    main()\n"
   ]
  }
 ],
 "metadata": {
  "kernelspec": {
   "display_name": "myenv",
   "language": "python",
   "name": "python3"
  },
  "language_info": {
   "codemirror_mode": {
    "name": "ipython",
    "version": 3
   },
   "file_extension": ".py",
   "mimetype": "text/x-python",
   "name": "python",
   "nbconvert_exporter": "python",
   "pygments_lexer": "ipython3",
   "version": "3.13.0"
  }
 },
 "nbformat": 4,
 "nbformat_minor": 2
}
